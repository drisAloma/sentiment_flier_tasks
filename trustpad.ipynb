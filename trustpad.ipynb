{
 "cells": [
  {
   "cell_type": "code",
   "execution_count": 105,
   "id": "f395ebd1",
   "metadata": {},
   "outputs": [],
   "source": [
    "import pandas as pd\n",
    "import numpy as np\n",
    "import warnings\n",
    "import time\n",
    "import re\n",
    "\n",
    "from selenium import webdriver\n",
    "from selenium.webdriver.common.by import By\n",
    "from selenium.webdriver.support.select import Select\n",
    "from selenium.webdriver.chrome.options import Options\n",
    "from selenium.webdriver.support.ui import WebDriverWait\n",
    "from selenium.webdriver.support import expected_conditions as EC"
   ]
  },
  {
   "cell_type": "code",
   "execution_count": 106,
   "id": "60e90b6d",
   "metadata": {},
   "outputs": [],
   "source": [
    "warnings.filterwarnings('ignore', category = DeprecationWarning)"
   ]
  },
  {
   "cell_type": "code",
   "execution_count": 107,
   "id": "8028dedf",
   "metadata": {},
   "outputs": [],
   "source": [
    "options = Options()\n",
    "\n",
    "options.add_experimental_option(\"excludeSwitches\", [\"enable-automation\"])\n",
    "options.add_experimental_option('useAutomationExtension', False)\n",
    "options.add_argument(\"--disable-blink-features=AutomationControlled\")\n",
    "options.add_argument(\"--disabke-gpu\")\n",
    "options.add_argument(\"--no-sandbox\")"
   ]
  },
  {
   "cell_type": "code",
   "execution_count": 108,
   "id": "687123ec",
   "metadata": {},
   "outputs": [],
   "source": [
    "i= 0\n",
    "while i <= 7:\n",
    "    try:\n",
    "        load = browser.find_element(by = 'xpath', value ='//div[@class = \" font-bold \"]')\n",
    "        load.click()\n",
    "        time.sleep(2)\n",
    "        i +=1\n",
    "    except:\n",
    "        break"
   ]
  },
  {
   "cell_type": "code",
   "execution_count": 109,
   "id": "f85f6ce4",
   "metadata": {},
   "outputs": [],
   "source": [
    "def open(link):\n",
    "    try:\n",
    "        time.sleep(5)\n",
    "        browser.get(link)\n",
    "    except:\n",
    "        print('no internet connection')"
   ]
  },
  {
   "cell_type": "code",
   "execution_count": 110,
   "id": "80ddb705",
   "metadata": {},
   "outputs": [],
   "source": [
    "titles = '//div[@class =\"space-y-2\"]//h2'\n",
    "conds_crits = '//div[@class =\"space-y-2\"]//div[@class=\"flex items-center space-x-2 flex-wrap\"]'\n",
    "info = '//div[@class= \"space-y-3\"]' # basic_info = index 0 '//div[@class=\"flex items-center space-x-2 text-sm\"]//span', pool_details = index \n",
    "token_details = '//div//ul' #price = index 3, tokenomics = index 4\n",
    "distro = '//div//li[@class=\"flex py-1 justify-between md:justify-start items-center\"]' #vesting=index -1, distribution=index -2\n",
    "chain = '//div[@class=\"space-x-3 flex items-center\"]'\n",
    "swap_rate = '//div[@class=\"text-lg brand-text\"]'\n",
    "allocation = '//div[@class=\"text-ignored opacity-90 text-right\"]'\n",
    "\n",
    "\n",
    "#pool_info = '//div[@class= \"space-y-3\"]//div[@class=\"flex flex-col md:flex-row flex-wrap\"]'\n",
    "ended_IDO = '//button[@class= \"btn btn-main px-6 py-3 border-2 text-sm md:text-lg rounded-lg transform transition font-PFD bg-dark2 ring-none hover:bg-opacity-20 hover:bg-gray-800 hover:-translate-y-1 border-mainDark bg-none shadow-none\"]' \n",
    "time_since_sales = '//div[@class=\"flex justify-between text-sm tracking-wide space-x-3\"]//span' #index=0, percentage=1\n",
    "contract_adr = '//div[@class=\"flex items-center space-x-3 py-1\"]'"
   ]
  },
  {
   "cell_type": "code",
   "execution_count": 111,
   "id": "1670329b",
   "metadata": {},
   "outputs": [],
   "source": [
    "titles = []\n",
    "CAC = [] # CONDITIONS AND CRITERIA\n",
    "basic_info = []\n",
    "pool_info = []\n",
    "price = []\n",
    "token_info = []\n",
    "distribution = []\n",
    "vesting = []\n",
    "pool_supply = []\n",
    "project_chain = []\n",
    "sale_price = []"
   ]
  },
  {
   "cell_type": "code",
   "execution_count": 116,
   "id": "f69ea924",
   "metadata": {},
   "outputs": [
    {
     "ename": "AttributeError",
     "evalue": "'list' object has no attribute 'get_attribute'",
     "output_type": "error",
     "traceback": [
      "\u001b[1;31m---------------------------------------------------------------------------\u001b[0m",
      "\u001b[1;31mAttributeError\u001b[0m                            Traceback (most recent call last)",
      "\u001b[1;32m<ipython-input-116-ee784bbeb868>\u001b[0m in \u001b[0;36m<module>\u001b[1;34m\u001b[0m\n\u001b[0;32m     47\u001b[0m \u001b[0msale_price\u001b[0m\u001b[1;33m.\u001b[0m\u001b[0mappend\u001b[0m\u001b[1;33m(\u001b[0m\u001b[0mrate\u001b[0m\u001b[1;33m.\u001b[0m\u001b[0mtext\u001b[0m\u001b[1;33m)\u001b[0m\u001b[1;33m\u001b[0m\u001b[1;33m\u001b[0m\u001b[0m\n\u001b[0;32m     48\u001b[0m \u001b[1;33m\u001b[0m\u001b[0m\n\u001b[1;32m---> 49\u001b[1;33m \u001b[0mlink\u001b[0m \u001b[1;33m=\u001b[0m \u001b[0mbrowser\u001b[0m\u001b[1;33m.\u001b[0m\u001b[0mfind_elements\u001b[0m\u001b[1;33m(\u001b[0m\u001b[0mby\u001b[0m \u001b[1;33m=\u001b[0m\u001b[1;34m'xpath'\u001b[0m\u001b[1;33m,\u001b[0m \u001b[0mvalue\u001b[0m \u001b[1;33m=\u001b[0m \u001b[1;34m'//div[@class=\"text-right -mt-2 text-sm\"]/a'\u001b[0m\u001b[1;33m)\u001b[0m\u001b[1;33m.\u001b[0m\u001b[0mget_attribute\u001b[0m\u001b[1;33m(\u001b[0m\u001b[1;34m\"href\"\u001b[0m\u001b[1;33m)\u001b[0m\u001b[1;33m\u001b[0m\u001b[1;33m\u001b[0m\u001b[0m\n\u001b[0m\u001b[0;32m     50\u001b[0m \u001b[1;33m\u001b[0m\u001b[0m\n\u001b[0;32m     51\u001b[0m \u001b[0mtime\u001b[0m\u001b[1;33m.\u001b[0m\u001b[0msleep\u001b[0m\u001b[1;33m(\u001b[0m\u001b[1;36m2\u001b[0m\u001b[1;33m)\u001b[0m\u001b[1;33m\u001b[0m\u001b[1;33m\u001b[0m\u001b[0m\n",
      "\u001b[1;31mAttributeError\u001b[0m: 'list' object has no attribute 'get_attribute'"
     ]
    }
   ],
   "source": [
    "browser = webdriver.Chrome(executable_path=\"C:\\webdrivers\\chromedriver.exe\", options = options)\n",
    "open('https://trustpad.io/')\n",
    "time.sleep(2)\n",
    "browser.maximize_window()\n",
    "\n",
    "#time.sleep(3)\n",
    "#ended = browser.find_element(by = 'xpath', value = ended_IDO)\n",
    "#ended.click()\n",
    "\n",
    "time.sleep(3)\n",
    "find = browser.find_element(by = 'xpath', value ='//div[@class =\"py-6 col-lg-4 col-md-6\"]//a[@class=\"absolute top-0 left-0 h-full w-full z-10\"]')\n",
    "find.click()\n",
    "\n",
    "time.sleep(5)\n",
    "title = browser.find_element(by ='xpath', value = '//div[@class =\"space-y-2\"]//h2')\n",
    "titles.append(title.text) \n",
    "\n",
    "time.sleep(2)\n",
    "cds_crs = browser.find_element(by ='xpath', value = '//div[@class =\"space-y-2\"]//div[@class=\"flex items-center space-x-2 flex-wrap\"]')\n",
    "CAC.append(cds_crs.text)\n",
    "\n",
    "time.sleep(2)\n",
    "details = browser.find_elements(by ='xpath', value = '//div[@class= \"space-y-3\"]')\n",
    "basic_info.append(details[0].text)\n",
    "pool_info.append(details[1].text)\n",
    "\n",
    "time.sleep(2)\n",
    "tokenomics = browser.find_elements(by ='xpath', value = token_details)\n",
    "price.append(tokenomics[2].text)\n",
    "token_info.append(tokenomics[3].text)\n",
    "\n",
    "time.sleep(2)\n",
    "pools = browser.find_element(by ='xpath', value = allocation)\n",
    "pool_supply.append(pools.text)\n",
    "\n",
    "time.sleep(2)\n",
    "distro_schedule = browser.find_elements(by ='xpath', value = distro)\n",
    "distribution.append(distro_schedule[-2].text)\n",
    "vesting.append(distro_schedule[-1].text)\n",
    "\n",
    "time.sleep(2)\n",
    "blockchain = browser.find_element(by ='xpath', value = chain)\n",
    "project_chain.append(blockchain.text)\n",
    "\n",
    "time.sleep(2)\n",
    "rate = browser.find_element(by ='xpath', value = swap_rate)\n",
    "sale_price.append(rate.text)\n",
    "    \n",
    "link = browser.find_element(by ='xpath', value = '//div[@class=\"text-right -mt-2 text-sm\"]/a').get_attribute(\"href\")\n",
    "\n",
    "time.sleep(2)\n",
    "browser.back()"
   ]
  },
  {
   "cell_type": "code",
   "execution_count": 113,
   "id": "7b8c7689",
   "metadata": {},
   "outputs": [
    {
     "data": {
      "text/plain": [
       "(['Animalia'],\n",
       " ['Soon\\nLevels\\nKYC'],\n",
       " ['IDO and distribution on BNB Chain\\n💰 Sale\\nTBA'],\n",
       " ['Pool Details\\nAccess Type:\\nLevels\\nHard Cap:\\n$100\\u2009011\\nSwap Rate:\\n1 ANIM = $0.14 | 7.142 ANIM per 1 BUSD\\nStart:\\nTBA'],\n",
       " ['IDO:\\n$0.14'],\n",
       " ['Token:\\nAnimalia (ANIM)\\nType:\\nBEP-20\\nTotal Supply:\\n87\\u2009000\\u2009000 ANIM\\nInitial Supply:\\n3\\u2009480\\u2009000 ANIM, market cap $487\\u2009258\\nToken Listing:\\nTBA 28th Jan 2022'],\n",
       " ['0 / 714\\u2009285 ANIM'],\n",
       " [''],\n",
       " ['1 ANIM = 0.14 BUSD'])"
      ]
     },
     "execution_count": 113,
     "metadata": {},
     "output_type": "execute_result"
    }
   ],
   "source": [
    "titles, CAC, basic_info, pool_info, price, token_info, pool_supply, project_chain, sale_price, link"
   ]
  },
  {
   "cell_type": "code",
   "execution_count": 115,
   "id": "95a00d99",
   "metadata": {},
   "outputs": [
    {
     "data": {
      "text/plain": [
       "['https://docs.trustpad.io/trustpad/how-to-participate-in-an-ido#5c07']"
      ]
     },
     "execution_count": 115,
     "metadata": {},
     "output_type": "execute_result"
    }
   ],
   "source": [
    "how"
   ]
  },
  {
   "cell_type": "code",
   "execution_count": null,
   "id": "c5a64948",
   "metadata": {},
   "outputs": [],
   "source": []
  }
 ],
 "metadata": {
  "kernelspec": {
   "display_name": "Python 3",
   "language": "python",
   "name": "python3"
  },
  "language_info": {
   "codemirror_mode": {
    "name": "ipython",
    "version": 3
   },
   "file_extension": ".py",
   "mimetype": "text/x-python",
   "name": "python",
   "nbconvert_exporter": "python",
   "pygments_lexer": "ipython3",
   "version": "3.8.8"
  }
 },
 "nbformat": 4,
 "nbformat_minor": 5
}
